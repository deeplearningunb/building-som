{
 "cells": [
  {
   "cell_type": "markdown",
   "id": "feaf8452",
   "metadata": {},
   "source": [
    "# Análise do Self Organizing Maps para fraudes no cartão de crédito"
   ]
  },
  {
   "cell_type": "markdown",
   "id": "d0829fa2",
   "metadata": {},
   "source": [
    "Após o treino foi obtido o MID (Mean Inter-neuron Distances) entre os neurônios. Este foi ajustado em um mapa 10x10, em que cada celula representa um conjunto de sujeitos com características semelhantes, no qual buscamos identificar resultados que se destacam dos demais."
   ]
  },
  {
   "cell_type": "markdown",
   "id": "e7b2e07f",
   "metadata": {},
   "source": [
    "O resultado pode ser observado a baixo:\n",
    "![alt text](SOM_SIMOES.png \"SOM\")"
   ]
  },
  {
   "cell_type": "markdown",
   "id": "cb49f114",
   "metadata": {},
   "source": [
    "Neste mapa a distância entre os neurônios indica qual neurônio é mais diferente dos demais, indicando os sujeitos que possuem comportamentos fora do padrão e que são possíveis fraudes. Em que branco representa neurônios com máxima distância entre neurônios e preto representa a mínima distância."
   ]
  },
  {
   "cell_type": "markdown",
   "id": "1cbcc676",
   "metadata": {},
   "source": [
    "Para este treinamento realizado, os neurônios mais distantes estão nas coordenadas (9,8) e (9,9) do mapa. Sendo os sujeitos ligados a esses neurônios os mais prováveis de cometer fraude no cartão de crédito. Os sujeitos sujeitos são os com a customerID:\n",
    "15763579.0\n",
    "15793825.0\n",
    "15696361.0\n",
    "15782159.0\n",
    "15750104.0\n",
    "15749964.0\n",
    "15594305.0\n",
    "15664793.0\n",
    "15670029.0\n",
    "15662189.0\n",
    "15568469.0\n",
    "15586479.0\n",
    "15717700.0\n",
    "15705379.0\n",
    "15646535.0"
   ]
  },
  {
   "cell_type": "code",
   "execution_count": null,
   "id": "a22360c4",
   "metadata": {},
   "outputs": [],
   "source": []
  }
 ],
 "metadata": {
  "kernelspec": {
   "display_name": "Python 3",
   "language": "python",
   "name": "python3"
  },
  "language_info": {
   "codemirror_mode": {
    "name": "ipython",
    "version": 3
   },
   "file_extension": ".py",
   "mimetype": "text/x-python",
   "name": "python",
   "nbconvert_exporter": "python",
   "pygments_lexer": "ipython3",
   "version": "3.7.3"
  }
 },
 "nbformat": 4,
 "nbformat_minor": 5
}
